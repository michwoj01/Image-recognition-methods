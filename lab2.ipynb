{
 "cells": [
  {
   "cell_type": "code",
   "execution_count": 1,
   "metadata": {},
   "outputs": [],
   "source": [
    "import torch\n",
    "import torchvision\n",
    "import torchvision.transforms as transforms \n",
    "import torch.nn as nn\n",
    "import torch.utils.data as data\n",
    "import numpy as np\n",
    "\n",
    "class_labels = {\n",
    "    0: 'T-shirt/top',\n",
    "    1: 'Trouser',\n",
    "    2: 'Pullover',\n",
    "    3: 'Dress',\n",
    "    4: 'Coat',\n",
    "    5: 'Sandal',\n",
    "    6: 'Shirt',\n",
    "    7: 'Sneaker',\n",
    "    8: 'Bag',\n",
    "    9: 'Ankle boot'\n",
    "}\n",
    "\n",
    "fashion_trainset = torchvision.datasets.FashionMNIST(root=\"./data\", train=True, download=True, transform=transforms.ToTensor())\n",
    "fashion_loader = data.DataLoader(fashion_trainset, batch_size=32, shuffle=True)\n",
    "\n",
    "mnist_trainset = torchvision.datasets.MNIST(root=\"./data\", train=True, download=True, transform=transforms.ToTensor())\n",
    "mnist_loader = data.DataLoader(mnist_trainset, batch_size=32, shuffle=True)\n",
    "\n",
    "images, labels = (fashion_loader.dataset.data, fashion_loader.dataset.targets)\n",
    "\n",
    "m_images, m_labels = (mnist_loader.dataset.data, mnist_loader.dataset.targets)\n",
    "\n",
    "res_images = torch.Tensor(m_images.shape[0], 28, 84)\n",
    "res_labels = torch.Tensor(m_labels.shape[0])\n",
    "\n",
    "for i in range(m_images.shape[0]):\n",
    "    rand_idx1 = np.random.randint(0, len(labels))\n",
    "    rand_idx2 = np.random.randint(0, len(labels))\n",
    "    res_images[i] = torch.cat((images[rand_idx1],m_images[0], images[rand_idx2]), dim=1)\n",
    "    if m_labels[0] % 2 == 0: \n",
    "        res_labels[i] = labels[rand_idx1].item() \n",
    "    else: \n",
    "        res_labels[i] = labels[rand_idx2].item()\n"
   ]
  },
  {
   "cell_type": "code",
   "execution_count": 2,
   "metadata": {},
   "outputs": [],
   "source": [
    "dataset = data.TensorDataset(res_images, res_labels)\n",
    "test_size = 0.2 \n",
    "num_test_samples = int(len(dataset) * test_size)\n",
    "num_train_samples = len(dataset) - num_test_samples\n",
    "train_dataset, test_dataset = data.random_split(dataset, [num_train_samples, num_test_samples])\n",
    "\n",
    "batch_size = 128 \n",
    "train_loader = data.DataLoader(train_dataset, batch_size=batch_size, shuffle=True)\n",
    "test_loader = data.DataLoader(test_dataset, batch_size=batch_size, shuffle=True)"
   ]
  },
  {
   "cell_type": "code",
   "execution_count": 6,
   "metadata": {},
   "outputs": [],
   "source": [
    "class Net(nn.Module):\n",
    "    def __init__(self):\n",
    "        super(Net, self).__init__()\n",
    "        self.conv1 = nn.Conv2d(in_channels=1,out_channels=32,kernel_size=3,padding=1)\n",
    "        self.conv2 = nn.Conv2d(in_channels=32,out_channels=64,kernel_size=3,padding=1)\n",
    "        self.conv3 = nn.Conv2d(in_channels=64,out_channels=64,kernel_size=3,padding=1)\n",
    "        self.pool = nn.MaxPool2d(kernel_size=2)\n",
    "        self.fc1 = nn.Linear(64*3*10, 32)\n",
    "        self.fc2 = nn.Linear(32, 10)\n",
    "        self.relu = nn.ReLU()\n",
    "        self.dropout = nn.Dropout(0.5)\n",
    "\n",
    "    def forward(self, x):\n",
    "        x = self.pool(self.relu(self.conv1(x)))\n",
    "        x = self.pool(self.relu(self.conv2(x)))\n",
    "        x = self.pool(self.relu(self.conv3(x)))\n",
    "        x = x.view(-1, 64*3*10)\n",
    "        x = self.dropout(x)\n",
    "        x = self.relu(self.fc1(x))\n",
    "        x = self.fc2(x)\n",
    "        return x\n",
    "    \n",
    "net = Net()"
   ]
  },
  {
   "cell_type": "code",
   "execution_count": 4,
   "metadata": {},
   "outputs": [
    {
     "name": "stdout",
     "output_type": "stream",
     "text": [
      "Epoch: 1, Loss: 1.8695447444915771\n",
      "Epoch: 2, Loss: 1.9746652841567993\n",
      "Epoch: 3, Loss: 1.9377230405807495\n",
      "Epoch: 4, Loss: 1.812574863433838\n",
      "Epoch: 5, Loss: 1.8660504817962646\n",
      "Epoch: 6, Loss: 1.9063644409179688\n",
      "Epoch: 7, Loss: 1.9298654794692993\n",
      "Epoch: 8, Loss: 1.9371302127838135\n",
      "Epoch: 9, Loss: 1.9142595529556274\n",
      "Epoch: 10, Loss: 1.8853342533111572\n",
      "Epoch: 11, Loss: 1.9845359325408936\n",
      "Epoch: 12, Loss: 1.922088384628296\n",
      "Epoch: 13, Loss: 1.8595125675201416\n",
      "Epoch: 14, Loss: 1.9377131462097168\n",
      "Epoch: 15, Loss: 1.8986506462097168\n"
     ]
    }
   ],
   "source": [
    "\n",
    "criterion = nn.CrossEntropyLoss()\n",
    "optimizer = torch.optim.Adam(net.parameters(), lr=0.001)\n",
    "\n",
    "epochs = 15\n",
    "for epoch in range(epochs):\n",
    "    for i, data in enumerate(train_loader, 0):\n",
    "        inputs, labels = data\n",
    "        optimizer.zero_grad()\n",
    "        outputs = net(inputs.unsqueeze(1))\n",
    "        loss = criterion(outputs, labels.long())\n",
    "        loss.backward()\n",
    "        optimizer.step()\n",
    "    print(f\"Epoch: {epoch+1}, Loss: {loss.item()}\")"
   ]
  },
  {
   "cell_type": "code",
   "execution_count": 5,
   "metadata": {},
   "outputs": [
    {
     "name": "stdout",
     "output_type": "stream",
     "text": [
      "Accuracy: 57.00833333333333%\n"
     ]
    }
   ],
   "source": [
    "net.eval()\n",
    "correct = 0\n",
    "total = 0\n",
    "with torch.no_grad():\n",
    "    for data in test_loader:\n",
    "        inputs, labels = data\n",
    "        outputs = net(inputs.unsqueeze(1))\n",
    "        _, predicted = torch.max(outputs.data, 1)\n",
    "        total += labels.size(0)\n",
    "        correct += (predicted == labels.long()).sum().item()\n",
    "\n",
    "print(f'Accuracy: {100 * correct / total}%')"
   ]
  }
 ],
 "metadata": {
  "kernelspec": {
   "display_name": "mrenv",
   "language": "python",
   "name": "python3"
  },
  "language_info": {
   "codemirror_mode": {
    "name": "ipython",
    "version": 3
   },
   "file_extension": ".py",
   "mimetype": "text/x-python",
   "name": "python",
   "nbconvert_exporter": "python",
   "pygments_lexer": "ipython3",
   "version": "3.10.12"
  }
 },
 "nbformat": 4,
 "nbformat_minor": 2
}
